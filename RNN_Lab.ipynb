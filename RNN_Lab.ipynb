{
  "nbformat": 4,
  "nbformat_minor": 0,
  "metadata": {
    "accelerator": "GPU",
    "colab": {
      "name": "RNN_Lab.ipynb",
      "provenance": [],
      "collapsed_sections": []
    },
    "kernelspec": {
      "display_name": "Python 3",
      "language": "python",
      "name": "python3"
    },
    "language_info": {
      "codemirror_mode": {
        "name": "ipython",
        "version": 3
      },
      "file_extension": ".py",
      "mimetype": "text/x-python",
      "name": "python",
      "nbconvert_exporter": "python",
      "pygments_lexer": "ipython3",
      "version": "3.8.3"
    }
  },
  "cells": [
    {
      "cell_type": "code",
      "metadata": {
        "id": "XOkBF0K6P6MC"
      },
      "source": [
        "import tensorflow as tf\n",
        "import tensorflow.keras as tfk\n",
        "import tensorflow.keras.layers as tfkl\n",
        "from tensorflow.keras.models import Sequential\n",
        "\n",
        "\n",
        "from google.colab import drive\n",
        "import numpy as np\n",
        "import pandas as pd"
      ],
      "execution_count": 1,
      "outputs": []
    },
    {
      "cell_type": "markdown",
      "metadata": {
        "id": "KdCU982WwzFo"
      },
      "source": [
        "In this example, we're going to train a [CharRNN](http://karpathy.github.io/2015/05/21/rnn-effectiveness/) on a body of Shakespearian text. Ultimtely, this is an unsuperived learning task. But similar to our previous explorations in unsupervised DL, we will use an unlabeled dataset and create many samples of labeled data that we can use with our familiar supervised loss functions. The result will be a model that has learned the statistical properties of the input text, and can then be considered a \"generative\" model of language because we can use it to generate synthetic passages of Shakespeare.  "
      ]
    },
    {
      "cell_type": "code",
      "metadata": {
        "id": "dX7qrncTRKN0",
        "colab": {
          "base_uri": "https://localhost:8080/"
        },
        "outputId": "ed148e8e-e000-4d29-9d04-a3a8e5af67fc"
      },
      "source": [
        "drive.mount('/content/gdrive/')"
      ],
      "execution_count": 2,
      "outputs": [
        {
          "output_type": "stream",
          "text": [
            "Mounted at /content/gdrive/\n"
          ],
          "name": "stdout"
        }
      ]
    },
    {
      "cell_type": "code",
      "metadata": {
        "id": "6iek9QSARq1L"
      },
      "source": [
        "file_path = \"/content/gdrive/My Drive/shakespeare.txt\"\n",
        "\n",
        "with open(file_path,\"r\") as f:\n",
        "  text = f.read()"
      ],
      "execution_count": 3,
      "outputs": []
    },
    {
      "cell_type": "markdown",
      "metadata": {
        "id": "ie2LtLF4Vv6A"
      },
      "source": [
        "We've loaded our Shakespeare text, let's take a look at a random snippet."
      ]
    },
    {
      "cell_type": "code",
      "metadata": {
        "id": "LVFmTUsGWePe",
        "colab": {
          "base_uri": "https://localhost:8080/"
        },
        "outputId": "0504bcf0-db72-4e64-f4eb-9b28110ea078"
      },
      "source": [
        "print(text[31600:32000])"
      ],
      "execution_count": 4,
      "outputs": [
        {
          "output_type": "stream",
          "text": [
            " lies i' the second chamber?\n",
            "  LADY MACBETH. Donalbain.\n",
            "  MACBETH. This is a sorry sight.           [Looks on his hands.\n",
            "  LADY MACBETH. A foolish thought, to say a sorry sight.\n",
            "  MACBETH. There's one did laugh in 's sleep, and one cried,\n",
            "      \"Murther!\"\n",
            "    That they did wake each other. I stood and heard them,\n",
            "    But they did say their prayers and address'd them\n",
            "    Again to sleep.\n",
            "  LADY MACB\n"
          ],
          "name": "stdout"
        }
      ]
    },
    {
      "cell_type": "markdown",
      "metadata": {
        "id": "qLXQHFUsW0xu"
      },
      "source": [
        "We need to convert our text into numeric arrays, the next several blocks accomplish this.\n",
        "\n",
        "First, we'll create a mapping between characters and their numeric index. We'll also create the reverse mapping, which is useful."
      ]
    },
    {
      "cell_type": "code",
      "metadata": {
        "id": "UkvcQEUASXQG",
        "colab": {
          "base_uri": "https://localhost:8080/"
        },
        "outputId": "b0d10499-84c1-4786-9a02-b0771f84952d"
      },
      "source": [
        "chars = sorted(list(set(text)))\n",
        "print('total chars:', len(chars))\n",
        "char_indices = dict((c, i) for i, c in enumerate(chars))\n",
        "indices_char = dict((i, c) for i, c in enumerate(chars))"
      ],
      "execution_count": 5,
      "outputs": [
        {
          "output_type": "stream",
          "text": [
            "total chars: 75\n"
          ],
          "name": "stdout"
        }
      ]
    },
    {
      "cell_type": "markdown",
      "metadata": {
        "id": "XexyPZdAXC0p"
      },
      "source": [
        "Next, we'll create a training set of sub-sequences. Remember, we're trying to train a model to be able to predict the next chracter if it is given several characters of a subsequence. So we will create training pairs where each X is a fixed-length subsequences and each Y is the corresponding next letter in the text."
      ]
    },
    {
      "cell_type": "code",
      "metadata": {
        "id": "ej4RdC76S7RB",
        "colab": {
          "base_uri": "https://localhost:8080/"
        },
        "outputId": "f99e60e0-35d7-4ca1-f242-c43d32b20012"
      },
      "source": [
        "maxlen = 40\n",
        "step = 3\n",
        "sub_sequences = []\n",
        "next_chars = []\n",
        "for i in range(0, len(text) - maxlen, step):\n",
        "    sub_sequences.append(text[i: i + maxlen])\n",
        "    next_chars.append(text[i + maxlen])\n",
        "print('nb sequences:', len(sub_sequences))"
      ],
      "execution_count": 6,
      "outputs": [
        {
          "output_type": "stream",
          "text": [
            "nb sequences: 38700\n"
          ],
          "name": "stdout"
        }
      ]
    },
    {
      "cell_type": "code",
      "metadata": {
        "id": "QVHru3qPWX8Z",
        "colab": {
          "base_uri": "https://localhost:8080/"
        },
        "outputId": "2454ff5b-87f0-4726-c37f-495b391a3eef"
      },
      "source": [
        "k=300\n",
        "print(\"(Sequence):\\n\" + sub_sequences[k])\n",
        "print(\"\\n(Target Character): \\n\" + next_chars[k])"
      ],
      "execution_count": 7,
      "outputs": [
        {
          "output_type": "stream",
          "text": [
            "(Sequence):\n",
            " and other Apparitions\n",
            "  Lords, Gentleme\n",
            "\n",
            "(Target Character): \n",
            "n\n"
          ],
          "name": "stdout"
        }
      ]
    },
    {
      "cell_type": "markdown",
      "metadata": {
        "id": "vD2QxlOAW8zQ"
      },
      "source": [
        "Next we'll create one-hot vectors for our sub-sequences. The tensor we create here will be shaped as (num_sequences x sequence_length x alphabet_size)."
      ]
    },
    {
      "cell_type": "code",
      "metadata": {
        "id": "SfQRBmiNWehk"
      },
      "source": [
        "X = np.zeros((len(sub_sequences), maxlen, len(chars)), dtype=np.uint8 )\n",
        "Y = np.zeros((len(sub_sequences), len(chars)), dtype=np.uint8)\n",
        "for i, seq in enumerate(sub_sequences):\n",
        "    for t, char in enumerate(seq):\n",
        "        X[i, t, char_indices[char]] = 1\n",
        "        Y[i, char_indices[next_chars[i]]] = 1"
      ],
      "execution_count": 8,
      "outputs": []
    },
    {
      "cell_type": "code",
      "metadata": {
        "id": "U4qxjsGDXLtb",
        "colab": {
          "base_uri": "https://localhost:8080/"
        },
        "outputId": "306afdf4-e648-459e-a848-1d1d6482066f"
      },
      "source": [
        "X[0,0,:]"
      ],
      "execution_count": 9,
      "outputs": [
        {
          "output_type": "execute_result",
          "data": {
            "text/plain": [
              "array([0, 0, 0, 0, 0, 0, 0, 0, 0, 0, 0, 0, 0, 0, 0, 0, 0, 0, 0, 0, 0, 0,\n",
              "       0, 0, 0, 0, 0, 0, 0, 0, 0, 0, 0, 0, 0, 0, 0, 0, 0, 0, 0, 0, 0, 0,\n",
              "       0, 0, 0, 0, 0, 0, 0, 0, 0, 0, 0, 0, 0, 0, 0, 0, 0, 0, 0, 0, 0, 0,\n",
              "       0, 0, 0, 0, 0, 0, 0, 0, 1], dtype=uint8)"
            ]
          },
          "metadata": {
            "tags": []
          },
          "execution_count": 9
        }
      ]
    },
    {
      "cell_type": "code",
      "metadata": {
        "id": "423pgyKqXnE_",
        "colab": {
          "base_uri": "https://localhost:8080/"
        },
        "outputId": "da9889f3-e9a4-4657-d5ef-42ca565bfd05"
      },
      "source": [
        "Y[0]"
      ],
      "execution_count": 10,
      "outputs": [
        {
          "output_type": "execute_result",
          "data": {
            "text/plain": [
              "array([0, 0, 0, 0, 0, 0, 0, 0, 0, 0, 0, 0, 0, 0, 0, 0, 0, 0, 0, 0, 0, 0,\n",
              "       0, 0, 0, 0, 0, 0, 0, 0, 0, 0, 0, 0, 0, 0, 0, 0, 0, 0, 0, 0, 0, 0,\n",
              "       0, 0, 0, 0, 0, 0, 0, 0, 0, 0, 0, 0, 0, 0, 0, 0, 1, 0, 0, 0, 0, 0,\n",
              "       0, 0, 0, 0, 0, 0, 0, 0, 0], dtype=uint8)"
            ]
          },
          "metadata": {
            "tags": []
          },
          "execution_count": 10
        }
      ]
    },
    {
      "cell_type": "markdown",
      "metadata": {
        "id": "2dJrr1caYVnI"
      },
      "source": [
        "Our RNN model will be quite simple."
      ]
    },
    {
      "cell_type": "code",
      "metadata": {
        "id": "95NSRVMpYGAT"
      },
      "source": [
        "char_rnn = Sequential()\n",
        "char_rnn.add(tfkl.LSTM(128, input_shape=(maxlen, len(chars))))\n",
        "char_rnn.add(tfkl.Dense(len(chars),activation=\"softmax\"))"
      ],
      "execution_count": 11,
      "outputs": []
    },
    {
      "cell_type": "code",
      "metadata": {
        "id": "t4xdUMP_Y6iu"
      },
      "source": [
        "char_rnn.compile(loss='categorical_crossentropy', optimizer=tfk.optimizers.RMSprop(lr=0.01))"
      ],
      "execution_count": 12,
      "outputs": []
    },
    {
      "cell_type": "code",
      "metadata": {
        "id": "KGDTEd0GZFNk",
        "colab": {
          "base_uri": "https://localhost:8080/"
        },
        "outputId": "e6323c57-e8eb-4c14-bc63-d2318967661c"
      },
      "source": [
        "char_rnn.fit(X,Y, epochs=20, batch_size=1024)"
      ],
      "execution_count": 13,
      "outputs": [
        {
          "output_type": "stream",
          "text": [
            "Epoch 1/20\n",
            "38/38 [==============================] - 1s 18ms/step - loss: 3.2970\n",
            "Epoch 2/20\n",
            "38/38 [==============================] - 1s 15ms/step - loss: 2.8079\n",
            "Epoch 3/20\n",
            "38/38 [==============================] - 1s 15ms/step - loss: 2.3955\n",
            "Epoch 4/20\n",
            "38/38 [==============================] - 1s 16ms/step - loss: 2.1418\n",
            "Epoch 5/20\n",
            "38/38 [==============================] - 1s 15ms/step - loss: 1.9905\n",
            "Epoch 6/20\n",
            "38/38 [==============================] - 1s 15ms/step - loss: 1.8609\n",
            "Epoch 7/20\n",
            "38/38 [==============================] - 1s 15ms/step - loss: 1.7540\n",
            "Epoch 8/20\n",
            "38/38 [==============================] - 1s 15ms/step - loss: 1.6753\n",
            "Epoch 9/20\n",
            "38/38 [==============================] - 1s 15ms/step - loss: 1.6005\n",
            "Epoch 10/20\n",
            "38/38 [==============================] - 1s 15ms/step - loss: 1.5379\n",
            "Epoch 11/20\n",
            "38/38 [==============================] - 1s 15ms/step - loss: 1.4776\n",
            "Epoch 12/20\n",
            "38/38 [==============================] - 1s 15ms/step - loss: 1.4272\n",
            "Epoch 13/20\n",
            "38/38 [==============================] - 1s 15ms/step - loss: 1.3756\n",
            "Epoch 14/20\n",
            "38/38 [==============================] - 1s 15ms/step - loss: 1.3317\n",
            "Epoch 15/20\n",
            "38/38 [==============================] - 1s 15ms/step - loss: 1.2864\n",
            "Epoch 16/20\n",
            "38/38 [==============================] - 1s 15ms/step - loss: 1.2386\n",
            "Epoch 17/20\n",
            "38/38 [==============================] - 1s 15ms/step - loss: 1.1930\n",
            "Epoch 18/20\n",
            "38/38 [==============================] - 1s 15ms/step - loss: 1.1483\n",
            "Epoch 19/20\n",
            "38/38 [==============================] - 1s 15ms/step - loss: 1.1031\n",
            "Epoch 20/20\n",
            "38/38 [==============================] - 1s 15ms/step - loss: 1.0626\n"
          ],
          "name": "stdout"
        },
        {
          "output_type": "execute_result",
          "data": {
            "text/plain": [
              "<tensorflow.python.keras.callbacks.History at 0x7fc7cc2d4b00>"
            ]
          },
          "metadata": {
            "tags": []
          },
          "execution_count": 13
        }
      ]
    },
    {
      "cell_type": "markdown",
      "metadata": {
        "id": "6hhAWPgRX96V"
      },
      "source": [
        "Once we have a trained model, we can simulate new text by making predictions about the next character and then drawing characters in proportion to the predicted probabilities. And then simple repeat that process over and over, each time drawing the next character."
      ]
    },
    {
      "cell_type": "code",
      "metadata": {
        "id": "IMpJwYSsZSoc"
      },
      "source": [
        "def draw_char(probs):\n",
        "    probs = np.asarray(probs).astype('float64')\n",
        "    if sum(probs) != 1.0:\n",
        "      probs = probs / np.sum(probs)\n",
        "    draw = np.random.choice(range(len(probs)) , p=probs)\n",
        "    return draw\n",
        "\n",
        "def sample_text(model, sample_length=100):\n",
        "    start = np.random.randint(0, len(text) - maxlen - 1)\n",
        "    sequence = text[start: start + maxlen]\n",
        "  \n",
        "    x_preds = np.zeros((sample_length, maxlen, len(chars)))\n",
        "    for i in range(sample_length):\n",
        "        for t, char in enumerate(sequence[-maxlen:]):\n",
        "            x_preds[i, t, char_indices[char]] = 1.\n",
        "\n",
        "        preds = model.predict(np.expand_dims(x_preds[i,:,:], axis=0), verbose=0)[0]\n",
        "        next_index = draw_char(preds)\n",
        "        next_char = indices_char[next_index]\n",
        "\n",
        "        sequence += next_char\n",
        "    return sequence"
      ],
      "execution_count": 14,
      "outputs": []
    },
    {
      "cell_type": "code",
      "metadata": {
        "id": "jHD5iDlHayL7"
      },
      "source": [
        "sim = sample_text(char_rnn,sample_length=500) "
      ],
      "execution_count": 15,
      "outputs": []
    },
    {
      "cell_type": "code",
      "metadata": {
        "id": "bOP0ljRtOEmp",
        "colab": {
          "base_uri": "https://localhost:8080/"
        },
        "outputId": "ab2f92c9-0229-410b-82b7-bcd43f33a228"
      },
      "source": [
        "print(sim)"
      ],
      "execution_count": 16,
      "outputs": [
        {
          "output_type": "stream",
          "text": [
            "a torch before him.\n",
            "\n",
            "  BANQUO. How goes you ro.\n",
            "  LORS. Fith the hinges. en move these noth.\n",
            "    This eyess, would me's surdoinumingly read.\n",
            "    Uppry! Rogion\n",
            "    How mold. Yereieved time I hade asterne\n",
            "    Nom before would, with a teringly.\n",
            "    Then lains of Shad. on mer ames,\n",
            "    And, file And hiss.\n",
            "  MACBETH. What's make,\n",
            "    My were where is.\n",
            "  THIRD MURTHERER. I'll shear, my lord and the dold, I have,\n",
            "    To akenter be for brove and mur handster'd,\n",
            "    Let this bade them blood and heaveny of less,\n",
            "    To hand everplictless'diemm.\n"
          ],
          "name": "stdout"
        }
      ]
    },
    {
      "cell_type": "markdown",
      "metadata": {
        "id": "Aj4kXg4BTbOc"
      },
      "source": [
        "Notice that we can do pretty well to learn the typical statistical patterns of this text and then simulate new text that appears to be very similar to legitimate Shakespeare. \n",
        "\n",
        "But just a caution - we can also do pretty well with a much simpler method (Markov model): http://nbviewer.jupyter.org/gist/yoavg/d76121dfde2618422139\n",
        "\n",
        "So the lesson is to try something simple before jumping right in to deep learning."
      ]
    },
    {
      "cell_type": "markdown",
      "metadata": {
        "id": "n5IE5xprp3RS"
      },
      "source": [
        "## Exercise"
      ]
    },
    {
      "cell_type": "markdown",
      "metadata": {
        "id": "HoN_s6nQsDdn"
      },
      "source": [
        "In this example, we're going to use an RNN for sequence classification. The task we'll set up is to generate a training set of randomized strings, and train our model to detect whether a string contains any vowels."
      ]
    },
    {
      "cell_type": "markdown",
      "metadata": {
        "id": "Isy5RPDdsTYT"
      },
      "source": [
        "First, we'll create a training dataset of short randomized character sequences and the corresponding label of whether or not they contain at least one vowel."
      ]
    },
    {
      "cell_type": "code",
      "metadata": {
        "id": "hE6C-Xl6p5W7"
      },
      "source": [
        "import string"
      ],
      "execution_count": 17,
      "outputs": []
    },
    {
      "cell_type": "code",
      "metadata": {
        "id": "CI7QA2Ewp-ZJ"
      },
      "source": [
        "def contains_vowels(sequence):\n",
        "  vowels = [\"a\", \"e\", \"i\", \"o\", \"u\"]\n",
        "  return any([vowel in list(sequence) for vowel in vowels])"
      ],
      "execution_count": 19,
      "outputs": []
    },
    {
      "cell_type": "code",
      "metadata": {
        "id": "oZ9cEhMrqtoG",
        "colab": {
          "base_uri": "https://localhost:8080/"
        },
        "outputId": "4ba30795-3dc8-4a7a-c2e9-5f64335a480f"
      },
      "source": [
        "contains_vowels(\"gradient\")"
      ],
      "execution_count": 20,
      "outputs": [
        {
          "output_type": "execute_result",
          "data": {
            "text/plain": [
              "True"
            ]
          },
          "metadata": {
            "tags": []
          },
          "execution_count": 20
        }
      ]
    },
    {
      "cell_type": "code",
      "metadata": {
        "id": "EwBEUPYwp9Z0"
      },
      "source": [
        "sequences = []\n",
        "labels = []\n",
        "for i in range(1000):\n",
        " char_list = np.random.choice( list(string.ascii_lowercase), size = 5, replace=True)\n",
        " seq = \"\".join(char_list)\n",
        " sequences.append(seq)\n",
        " labels.append(int(contains_vowels(seq)))"
      ],
      "execution_count": 21,
      "outputs": []
    },
    {
      "cell_type": "code",
      "metadata": {
        "id": "IkJXdy5krgHn"
      },
      "source": [
        "df = pd.DataFrame({\"sequence\": sequences, \"label\":labels})"
      ],
      "execution_count": 22,
      "outputs": []
    },
    {
      "cell_type": "code",
      "metadata": {
        "id": "ubAQf53Dr8zy",
        "colab": {
          "base_uri": "https://localhost:8080/",
          "height": 204
        },
        "outputId": "a583b857-f4c7-4549-86a6-140be1aa19b9"
      },
      "source": [
        "df.head()"
      ],
      "execution_count": 23,
      "outputs": [
        {
          "output_type": "execute_result",
          "data": {
            "text/html": [
              "<div>\n",
              "<style scoped>\n",
              "    .dataframe tbody tr th:only-of-type {\n",
              "        vertical-align: middle;\n",
              "    }\n",
              "\n",
              "    .dataframe tbody tr th {\n",
              "        vertical-align: top;\n",
              "    }\n",
              "\n",
              "    .dataframe thead th {\n",
              "        text-align: right;\n",
              "    }\n",
              "</style>\n",
              "<table border=\"1\" class=\"dataframe\">\n",
              "  <thead>\n",
              "    <tr style=\"text-align: right;\">\n",
              "      <th></th>\n",
              "      <th>sequence</th>\n",
              "      <th>label</th>\n",
              "    </tr>\n",
              "  </thead>\n",
              "  <tbody>\n",
              "    <tr>\n",
              "      <th>0</th>\n",
              "      <td>oohmu</td>\n",
              "      <td>1</td>\n",
              "    </tr>\n",
              "    <tr>\n",
              "      <th>1</th>\n",
              "      <td>dofox</td>\n",
              "      <td>1</td>\n",
              "    </tr>\n",
              "    <tr>\n",
              "      <th>2</th>\n",
              "      <td>yxzsx</td>\n",
              "      <td>0</td>\n",
              "    </tr>\n",
              "    <tr>\n",
              "      <th>3</th>\n",
              "      <td>ypxsa</td>\n",
              "      <td>1</td>\n",
              "    </tr>\n",
              "    <tr>\n",
              "      <th>4</th>\n",
              "      <td>snjau</td>\n",
              "      <td>1</td>\n",
              "    </tr>\n",
              "  </tbody>\n",
              "</table>\n",
              "</div>"
            ],
            "text/plain": [
              "  sequence  label\n",
              "0    oohmu      1\n",
              "1    dofox      1\n",
              "2    yxzsx      0\n",
              "3    ypxsa      1\n",
              "4    snjau      1"
            ]
          },
          "metadata": {
            "tags": []
          },
          "execution_count": 23
        }
      ]
    },
    {
      "cell_type": "markdown",
      "metadata": {
        "id": "2xkX8Xa8sfID"
      },
      "source": [
        "Next, set up and train an RNN (of any type) to solve this task. What preprocessing will you need to do first on the raw data in order to prepare it for the network?"
      ]
    },
    {
      "cell_type": "code",
      "metadata": {
        "id": "6M4Sj4XHr9hj"
      },
      "source": [
        "\n",
        "char0 = list(string.ascii_lowercase)\n",
        "char_indices0 = dict((c, i) for i, c in enumerate(char0))\n",
        "indices_char0 = dict((i, c) for i, c in enumerate(char0))"
      ],
      "execution_count": 24,
      "outputs": []
    },
    {
      "cell_type": "code",
      "metadata": {
        "id": "Og8gtSgHslED"
      },
      "source": [
        "X = np.zeros((len(sequences),5,26), dtype=np.uint8)\n",
        "for i, seq in enumerate(sequences):\n",
        "  for t,char in enumerate(seq):\n",
        "        X[i,t,char_indices0[char]] = 1\n",
        "Y = np.array(labels)"
      ],
      "execution_count": 25,
      "outputs": []
    },
    {
      "cell_type": "code",
      "metadata": {
        "id": "lSLXwJvJszDu",
        "colab": {
          "base_uri": "https://localhost:8080/"
        },
        "outputId": "1cdcb76a-cc0b-46c1-e396-e3dc55905879"
      },
      "source": [
        "\n",
        "vowel_rnn = Sequential()\n",
        "vowel_rnn.add(tfkl.LSTM(100,input_shape=(5,26)))\n",
        "vowel_rnn.add(tfkl.Dense(1, activation='sigmoid'))\n",
        "vowel_rnn.compile(loss='binary_crossentropy', optimizer='adam', metrics=['accuracy'])\n",
        "vowel_rnn.summary()"
      ],
      "execution_count": 26,
      "outputs": [
        {
          "output_type": "stream",
          "text": [
            "Model: \"sequential_1\"\n",
            "_________________________________________________________________\n",
            "Layer (type)                 Output Shape              Param #   \n",
            "=================================================================\n",
            "lstm_1 (LSTM)                (None, 100)               50800     \n",
            "_________________________________________________________________\n",
            "dense_1 (Dense)              (None, 1)                 101       \n",
            "=================================================================\n",
            "Total params: 50,901\n",
            "Trainable params: 50,901\n",
            "Non-trainable params: 0\n",
            "_________________________________________________________________\n"
          ],
          "name": "stdout"
        }
      ]
    },
    {
      "cell_type": "code",
      "metadata": {
        "colab": {
          "base_uri": "https://localhost:8080/"
        },
        "id": "IgMHbJHJ97qC",
        "outputId": "2b66de77-d5a5-4561-91bd-224b5a3de3f3"
      },
      "source": [
        "vowel_rnn.fit(X,Y, epochs=20, batch_size=1000)"
      ],
      "execution_count": 27,
      "outputs": [
        {
          "output_type": "stream",
          "text": [
            "Epoch 1/20\n",
            "1/1 [==============================] - 0s 2ms/step - loss: 0.6979 - accuracy: 0.3990\n",
            "Epoch 2/20\n",
            "1/1 [==============================] - 0s 2ms/step - loss: 0.6926 - accuracy: 0.5080\n",
            "Epoch 3/20\n",
            "1/1 [==============================] - 0s 2ms/step - loss: 0.6874 - accuracy: 0.6250\n",
            "Epoch 4/20\n",
            "1/1 [==============================] - 0s 2ms/step - loss: 0.6823 - accuracy: 0.6700\n",
            "Epoch 5/20\n",
            "1/1 [==============================] - 0s 3ms/step - loss: 0.6774 - accuracy: 0.6760\n",
            "Epoch 6/20\n",
            "1/1 [==============================] - 0s 2ms/step - loss: 0.6726 - accuracy: 0.6700\n",
            "Epoch 7/20\n",
            "1/1 [==============================] - 0s 2ms/step - loss: 0.6678 - accuracy: 0.6680\n",
            "Epoch 8/20\n",
            "1/1 [==============================] - 0s 3ms/step - loss: 0.6631 - accuracy: 0.6680\n",
            "Epoch 9/20\n",
            "1/1 [==============================] - 0s 2ms/step - loss: 0.6583 - accuracy: 0.6680\n",
            "Epoch 10/20\n",
            "1/1 [==============================] - 0s 2ms/step - loss: 0.6536 - accuracy: 0.6680\n",
            "Epoch 11/20\n",
            "1/1 [==============================] - 0s 2ms/step - loss: 0.6488 - accuracy: 0.6680\n",
            "Epoch 12/20\n",
            "1/1 [==============================] - 0s 1ms/step - loss: 0.6439 - accuracy: 0.6680\n",
            "Epoch 13/20\n",
            "1/1 [==============================] - 0s 1ms/step - loss: 0.6390 - accuracy: 0.6680\n",
            "Epoch 14/20\n",
            "1/1 [==============================] - 0s 2ms/step - loss: 0.6340 - accuracy: 0.6680\n",
            "Epoch 15/20\n",
            "1/1 [==============================] - 0s 2ms/step - loss: 0.6290 - accuracy: 0.6680\n",
            "Epoch 16/20\n",
            "1/1 [==============================] - 0s 1ms/step - loss: 0.6239 - accuracy: 0.6680\n",
            "Epoch 17/20\n",
            "1/1 [==============================] - 0s 2ms/step - loss: 0.6188 - accuracy: 0.6680\n",
            "Epoch 18/20\n",
            "1/1 [==============================] - 0s 2ms/step - loss: 0.6137 - accuracy: 0.6680\n",
            "Epoch 19/20\n",
            "1/1 [==============================] - 0s 2ms/step - loss: 0.6086 - accuracy: 0.6680\n",
            "Epoch 20/20\n",
            "1/1 [==============================] - 0s 2ms/step - loss: 0.6035 - accuracy: 0.6680\n"
          ],
          "name": "stdout"
        },
        {
          "output_type": "execute_result",
          "data": {
            "text/plain": [
              "<tensorflow.python.keras.callbacks.History at 0x7fc7c4a6deb8>"
            ]
          },
          "metadata": {
            "tags": []
          },
          "execution_count": 27
        }
      ]
    }
  ]
}