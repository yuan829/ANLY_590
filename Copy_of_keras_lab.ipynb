{
 "cells": [
  {
   "cell_type": "code",
   "execution_count": 1,
   "metadata": {
    "id": "jS47B8K0JLkx"
   },
   "outputs": [],
   "source": [
    "import tensorflow as tf\n",
    "import tensorflow.keras as tfk\n",
    "import tensorflow.keras.layers as tfkl\n",
    "import numpy as np\n",
    "import matplotlib.pyplot as plt"
   ]
  },
  {
   "cell_type": "markdown",
   "metadata": {
    "id": "iehoGWa6SSWU"
   },
   "source": [
    "### regression\n",
    "\n",
    "Let's start by using `keras` to make a neural network for a simple regression task where both the input and the output as 1-dimensional. Below is some code that will produce the dataset for you to train on.\n",
    "\n",
    "Here are some general steps to follow:\n",
    "1. Define your model by passing `tfk.Sequential` a list of layers (found in `tf.keras.layers`, which is already imported for you by the shorter name `tfkl`, since you will use this module many times.\n",
    "2. Your first layers should be a `tfkl.Input` layer that specifies the shape of the input (it will automatically include an empty first dimension with size `None` as a placehold for the batch size).\n",
    "3. The rest of your layers should be `tfkl.Dense` layers; you will be to specify the number of neurons/units as well as the activation function (you can find those in `tf.nn`, and you can use `None` for a \"linear\" activation function, $f(x)=x$). Make sure you pick an output function that makes sense for this prediction task!\n",
    "4. Choose an appropriate optimizer from `tfk.optimizers` and an appropriate loss function from `tfk.losses` (both are classes that wil need to be initialized), and then pass them to `model.compile` to compile your model.\n",
    "5. Call `model.fit` to fit your model and collect the results\n",
    "6. Plot your training curve (loss vs training step)\n",
    "7. Call your model (`model(...)`) on a grid of inputs (code to make the grid provided) and plot the relationship your model learned against the true relationship (defined as `f` in the code below)."
   ]
  },
  {
   "cell_type": "code",
   "execution_count": 13,
   "metadata": {
    "id": "HDgsWoAKJbxz"
   },
   "outputs": [
    {
     "data": {
      "image/png": "[encoded data removed]",
      "text/plain": [
       "<Figure size 432x288 with 1 Axes>"
      ]
     },
     "metadata": {
      "needs_background": "light"
     },
     "output_type": "display_data"
    }
   ],
   "source": [
    "def regression_data(N):\n",
    "  x = np.random.uniform(low=-5.0, high=5.0, size=(N, 1)).astype(np.float32)\n",
    "  e = 0.2 * np.random.normal(size=(N, 1)).astype(np.float32)\n",
    "  f = lambda x: 0.2 * x**2 * np.sin(2 * np.pi * x / 6)\n",
    "  y = f(x) + e\n",
    "  return x, y\n",
    "\n",
    "N = 100\n",
    "x_train, y_train = regression_data(100)\n",
    "x_test,y_test=regression_data(100)\n",
    "\n",
    "plt.scatter(x, y, s=10)\n",
    "plt.show()"
   ]
  },
  {
   "cell_type": "code",
   "execution_count": 17,
   "metadata": {
    "id": "vBzgG7E0KmFR"
   },
   "outputs": [
    {
     "name": "stdout",
     "output_type": "stream",
     "text": [
      "Model: \"sequential_7\"\n",
      "_________________________________________________________________\n",
      "Layer (type)                 Output Shape              Param #   \n",
      "=================================================================\n",
      "dense_21 (Dense)             (None, 100)               200       \n",
      "_________________________________________________________________\n",
      "dense_22 (Dense)             (None, 20)                2020      \n",
      "_________________________________________________________________\n",
      "dense_23 (Dense)             (None, 1)                 21        \n",
      "=================================================================\n",
      "Total params: 2,241\n",
      "Trainable params: 2,241\n",
      "Non-trainable params: 0\n",
      "_________________________________________________________________\n",
      "Epoch 1/10000\n",
      "100/100 [==============================] - 0s 1ms/step - loss: 2.1778 - val_loss: 1.6618\n",
      "Epoch 2/10000\n",
      "100/100 [==============================] - 0s 598us/step - loss: 1.4430 - val_loss: 1.1753\n",
      "Epoch 3/10000\n",
      "100/100 [==============================] - 0s 600us/step - loss: 0.8182 - val_loss: 0.4618\n",
      "Epoch 4/10000\n",
      "100/100 [==============================] - 0s 621us/step - loss: 0.2757 - val_loss: 0.1597\n",
      "Epoch 5/10000\n",
      "100/100 [==============================] - 0s 632us/step - loss: 0.1189 - val_loss: 0.0891\n",
      "Epoch 6/10000\n",
      "100/100 [==============================] - 0s 577us/step - loss: 0.0773 - val_loss: 0.0682\n",
      "Epoch 7/10000\n",
      "100/100 [==============================] - 0s 598us/step - loss: 0.0635 - val_loss: 0.0597\n",
      "Epoch 8/10000\n",
      "100/100 [==============================] - 0s 585us/step - loss: 0.0579 - val_loss: 0.0563\n",
      "Epoch 9/10000\n",
      "100/100 [==============================] - 0s 676us/step - loss: 0.0555 - val_loss: 0.0547\n",
      "Epoch 10/10000\n",
      "100/100 [==============================] - 0s 593us/step - loss: 0.0544 - val_loss: 0.0537\n"
     ]
    }
   ],
   "source": [
    "a=tf.nn.relu\n",
    "model=tfk.Sequential([\n",
    "    tfkl.Input((1,)),\n",
    "    tfkl.Dense(100,activation=a),\n",
    "    tfkl.Dense(20,activation=a),\n",
    "    tfkl.Dense(1,activation=None)\n",
    "])\n",
    "model.summary()\n",
    "\n",
    "cbs=[tfk.callbacks.EarlyStopping(min_delta=0.01, patience=2)]\n",
    "\n",
    "ds_train =tf.data.Dataset.from_tensor_slices((x_train,y_train)).batch(32).repeat().prefetch(10)\n",
    "ds_test =tf.data.Dataset.from_tensor_slices((x_train,y_train)).batch(100).repeat().prefetch(10)\n",
    "\n",
    "loss=tfk.losses.MeanSquaredError()\n",
    "opt=tfk.optimizers.Adam()\n",
    "model.compile(opt,loss)\n",
    "\n",
    "result=model.fit(ds_train,steps_per_epoch=100, epochs=10000, callbacks=cbs, validation_data=ds_test, validation_steps=1)"
   ]
  },
  {
   "cell_type": "code",
   "execution_count": 23,
   "metadata": {},
   "outputs": [
    {
     "data": {
      "text/plain": [
       "[<matplotlib.lines.Line2D at 0x7ff12612be50>]"
      ]
     },
     "execution_count": 23,
     "metadata": {},
     "output_type": "execute_result"
    },
    {
     "data": {
      "image/png": "[encoded data removed]",
      "text/plain": [
       "<Figure size 432x288 with 1 Axes>"
      ]
     },
     "metadata": {
      "needs_background": "light"
     },
     "output_type": "display_data"
    }
   ],
   "source": [
    "plt.plot(result.history['loss'])\n",
    "plt.plot(result.history['val_loss'])"
   ]
  },
  {
   "cell_type": "code",
   "execution_count": 21,
   "metadata": {
    "id": "pULO0BniMAL2"
   },
   "outputs": [
    {
     "data": {
      "image/png": "[encoded data removed]",
      "text/plain": [
       "<Figure size 432x288 with 1 Axes>"
      ]
     },
     "metadata": {
      "needs_background": "light"
     },
     "output_type": "display_data"
    }
   ],
   "source": [
    "f = lambda x: 0.2 * x**2 * np.sin(2 * np.pi * x / 6)\n",
    "x_grid = np.linspace(x.min(), x.max(), 200).astype(np.float32)[:, np.newaxis]\n",
    "y_true = f(x_grid)\n",
    "y_hat=model(x_grid)\n",
    "\n",
    "plt.scatter(x,y,s=10)\n",
    "plt.plot([],[])\n",
    "plt.plot(x_grid, y_true,label='True')\n",
    "plt.plot(x_grid, y_hat,label='predicted')\n",
    "plt.legend\n",
    "plt.show()"
   ]
  },
  {
   "cell_type": "markdown",
   "metadata": {
    "id": "Dc59MczHVrc9"
   },
   "source": [
    "### binary classification\n",
    "\n",
    "Here is another dataset that differs in two key ways from the regression example we just worked:\n",
    "1. The input is now 2-dimensional\n",
    "2. The targets are now binary classes\n",
    "\n",
    "Update your model to handle both of these changes and try fitting this new data. Think about the following:\n",
    "- input shape\n",
    "- output function\n",
    "- loss function\n",
    "\n",
    "Since visualizing the results is a bit tricky, we have provided some code for that."
   ]
  },
  {
   "cell_type": "code",
   "execution_count": 20,
   "metadata": {
    "id": "NMg8n9NRGo_9"
   },
   "outputs": [
    {
     "data": {
      "image/png": "[encoded data removed]",
      "text/plain": [
       "<Figure size 504x504 with 1 Axes>"
      ]
     },
     "metadata": {
      "needs_background": "light"
     },
     "output_type": "display_data"
    }
   ],
   "source": [
    "N = 200\n",
    "def binary_classification_data(N):\n",
    "  x = np.random.uniform(low=-5, high=5, size=(N, 2))\n",
    "  y = (x[:, 0] * x[:, 1] > 0).astype(np.int)\n",
    "  return x, y\n",
    "\n",
    "x_train, y_train = binary_classification_data(N)\n",
    "x_test, y_test = binary_classification_data(N)\n",
    "\n",
    "plt.figure(figsize=(7, 7))\n",
    "plt.scatter(x_train[:, 0], x_train[:, 1], s=10, c=y_train, cmap='coolwarm')\n",
    "plt.show()"
   ]
  },
  {
   "cell_type": "code",
   "execution_count": 41,
   "metadata": {
    "id": "t4P6Ez3VJzQk"
   },
   "outputs": [
    {
     "name": "stdout",
     "output_type": "stream",
     "text": [
      "Model: \"sequential_13\"\n",
      "_________________________________________________________________\n",
      "Layer (type)                 Output Shape              Param #   \n",
      "=================================================================\n",
      "dense_43 (Dense)             (None, 100)               300       \n",
      "_________________________________________________________________\n",
      "dense_44 (Dense)             (None, 20)                2020      \n",
      "_________________________________________________________________\n",
      "dense_45 (Dense)             (None, 1)                 21        \n",
      "=================================================================\n",
      "Total params: 2,341\n",
      "Trainable params: 2,341\n",
      "Non-trainable params: 0\n",
      "_________________________________________________________________\n",
      "Epoch 1/10000\n",
      "100/100 [==============================] - 0s 1ms/step - loss: 0.5743 - val_loss: 0.4174\n",
      "Epoch 2/10000\n",
      "100/100 [==============================] - 0s 681us/step - loss: 0.2978 - val_loss: 0.2071\n",
      "Epoch 3/10000\n",
      "100/100 [==============================] - 0s 658us/step - loss: 0.1648 - val_loss: 0.1397\n",
      "Epoch 4/10000\n",
      "100/100 [==============================] - 0s 661us/step - loss: 0.1106 - val_loss: 0.1079\n",
      "Epoch 5/10000\n",
      "100/100 [==============================] - 0s 674us/step - loss: 0.0826 - val_loss: 0.0927\n",
      "Epoch 6/10000\n",
      "100/100 [==============================] - 0s 698us/step - loss: 0.0653 - val_loss: 0.0828\n",
      "Epoch 7/10000\n",
      "100/100 [==============================] - 0s 707us/step - loss: 0.0552 - val_loss: 0.0758\n",
      "Epoch 8/10000\n",
      "100/100 [==============================] - 0s 743us/step - loss: 0.0474 - val_loss: 0.0720\n",
      "Epoch 9/10000\n",
      "100/100 [==============================] - 0s 712us/step - loss: 0.0401 - val_loss: 0.0680\n",
      "Epoch 10/10000\n",
      "100/100 [==============================] - 0s 722us/step - loss: 0.0355 - val_loss: 0.0650\n",
      "Epoch 11/10000\n",
      "100/100 [==============================] - 0s 673us/step - loss: 0.0315 - val_loss: 0.0626\n",
      "Epoch 12/10000\n",
      "100/100 [==============================] - 0s 699us/step - loss: 0.0276 - val_loss: 0.0609\n",
      "Epoch 13/10000\n",
      "100/100 [==============================] - 0s 689us/step - loss: 0.0243 - val_loss: 0.0590\n",
      "Epoch 14/10000\n",
      "100/100 [==============================] - 0s 716us/step - loss: 0.0222 - val_loss: 0.0579\n",
      "Epoch 15/10000\n",
      "100/100 [==============================] - 0s 742us/step - loss: 0.0200 - val_loss: 0.0571\n",
      "Epoch 16/10000\n",
      "100/100 [==============================] - 0s 670us/step - loss: 0.0176 - val_loss: 0.0554\n",
      "Epoch 17/10000\n",
      "100/100 [==============================] - 0s 670us/step - loss: 0.0162 - val_loss: 0.0548\n",
      "Epoch 18/10000\n",
      "100/100 [==============================] - 0s 654us/step - loss: 0.0147 - val_loss: 0.0543\n",
      "Epoch 19/10000\n",
      "100/100 [==============================] - 0s 683us/step - loss: 0.0131 - val_loss: 0.0538\n",
      "Epoch 20/10000\n",
      "100/100 [==============================] - 0s 725us/step - loss: 0.0117 - val_loss: 0.0532\n",
      "Epoch 21/10000\n",
      "100/100 [==============================] - 0s 761us/step - loss: 0.0109 - val_loss: 0.0536\n",
      "Epoch 22/10000\n",
      "100/100 [==============================] - 0s 800us/step - loss: 0.0099 - val_loss: 0.0537\n"
     ]
    }
   ],
   "source": [
    "a=tf.nn.softplus\n",
    "model=tfk.Sequential([\n",
    "    tfkl.Input((2,)),\n",
    "    tfkl.Dense(100,activation=a),\n",
    "    tfkl.Dense(20,activation=a),\n",
    "    tfkl.Dense(1,activation=tf.nn.sigmoid)\n",
    "])\n",
    "model.summary()\n",
    "\n",
    "cbs=[tfk.callbacks.EarlyStopping(min_delta=0.001, patience=2)]\n",
    "\n",
    "ds_train =tf.data.Dataset.from_tensor_slices((x_train,y_train)).batch(32).repeat().prefetch(10)\n",
    "ds_test =tf.data.Dataset.from_tensor_slices((x_test,y_test)).batch(100).repeat().prefetch(10)\n",
    "\n",
    "loss=tfk.losses.BinaryCrossentropy()\n",
    "opt=tfk.optimizers.Adam()\n",
    "\n",
    "model.compile(opt,loss)\n",
    "\n",
    "result=model.fit(ds_train,steps_per_epoch=100, epochs=10000, callbacks=cbs, validation_data=ds_test, validation_steps=1)"
   ]
  },
  {
   "cell_type": "code",
   "execution_count": 42,
   "metadata": {
    "id": "5ZUclc8PKqEC"
   },
   "outputs": [
    {
     "data": {
      "image/png": "[encoded data removed]",
      "text/plain": [
       "<Figure size 432x288 with 2 Axes>"
      ]
     },
     "metadata": {
      "needs_background": "light"
     },
     "output_type": "display_data"
    }
   ],
   "source": [
    "def binary_preds(model, x_minmax=5):\n",
    "  x_grid = np.linspace(-x_minmax, x_minmax, 100)\n",
    "  mesh = np.meshgrid(x_grid, x_grid)\n",
    "  xs_grid = np.stack(mesh, axis=-1)\n",
    "  yhat = model(xs_grid).numpy().squeeze()\n",
    "\n",
    "\n",
    "  plt.imshow(yhat, cmap='coolwarm')\n",
    "  plt.colorbar()\n",
    "\n",
    "binary_preds(model)"
   ]
  },
  {
   "cell_type": "markdown",
   "metadata": {
    "id": "f6NPT8dsWWXW"
   },
   "source": [
    "### general classfication\n",
    "\n",
    "Finally we will download and train on some real data to learn about general classification. Here is some code that will download and show some metadata about the MNIST dataset -- a collectin of handwritten digits.\n",
    "\n",
    "Update your model to work on this data so that you model can predict the digit from its image. One new thing to keep in mind: these inputs are 2D. Later in the course we will learn about convolutional neural nets for handing such inputs more naturally, but for now, update your `tfkl.Input` layer to be 2-dimensional and then add a `tfkl.Flatten()` layer right after it to unravel the 2-d image into a 1-d vector of pixels.\n",
    "\n",
    "Again, visualalizing the output is a bit tricky, so we have provided some code to help."
   ]
  },
  {
   "cell_type": "code",
   "execution_count": 25,
   "metadata": {},
   "outputs": [
    {
     "name": "stdout",
     "output_type": "stream",
     "text": [
      "Collecting tensorflow_datasets\n",
      "  Downloading tensorflow_datasets-4.0.1-py3-none-any.whl (3.5 MB)\n",
      "\u001b[K     |████████████████████████████████| 3.5 MB 2.6 MB/s eta 0:00:01\n",
      "\u001b[?25hCollecting dill\n",
      "  Downloading dill-0.3.2.zip (177 kB)\n",
      "\u001b[K     |████████████████████████████████| 177 kB 8.3 MB/s eta 0:00:01\n",
      "\u001b[?25hRequirement already satisfied: six in /Users/liuyuan/opt/anaconda3/lib/python3.8/site-packages (from tensorflow_datasets) (1.15.0)\n",
      "Collecting promise\n",
      "  Downloading promise-2.3.tar.gz (19 kB)\n",
      "Requirement already satisfied: future in /Users/liuyuan/opt/anaconda3/lib/python3.8/site-packages (from tensorflow_datasets) (0.18.2)\n",
      "Requirement already satisfied: numpy in /Users/liuyuan/opt/anaconda3/lib/python3.8/site-packages (from tensorflow_datasets) (1.18.5)\n",
      "Requirement already satisfied: protobuf>=3.6.1 in /Users/liuyuan/.local/lib/python3.8/site-packages (from tensorflow_datasets) (3.13.0)\n",
      "Requirement already satisfied: tqdm in /Users/liuyuan/opt/anaconda3/lib/python3.8/site-packages (from tensorflow_datasets) (4.47.0)\n",
      "Collecting dm-tree\n",
      "  Downloading dm_tree-0.1.5-cp38-cp38-macosx_10_14_x86_64.whl (95 kB)\n",
      "\u001b[K     |████████████████████████████████| 95 kB 4.6 MB/s eta 0:00:011\n",
      "\u001b[?25hCollecting tensorflow-metadata\n",
      "  Downloading tensorflow_metadata-0.24.0-py3-none-any.whl (44 kB)\n",
      "\u001b[K     |████████████████████████████████| 44 kB 5.2 MB/s  eta 0:00:01\n",
      "\u001b[?25hRequirement already satisfied: requests>=2.19.0 in /Users/liuyuan/opt/anaconda3/lib/python3.8/site-packages (from tensorflow_datasets) (2.24.0)\n",
      "Requirement already satisfied: termcolor in /Users/liuyuan/.local/lib/python3.8/site-packages (from tensorflow_datasets) (1.1.0)\n",
      "Collecting importlib-resources; python_version < \"3.9\"\n",
      "  Downloading importlib_resources-3.0.0-py2.py3-none-any.whl (23 kB)\n",
      "Requirement already satisfied: absl-py in /Users/liuyuan/.local/lib/python3.8/site-packages (from tensorflow_datasets) (0.10.0)\n",
      "Requirement already satisfied: attrs>=18.1.0 in /Users/liuyuan/opt/anaconda3/lib/python3.8/site-packages (from tensorflow_datasets) (19.3.0)\n",
      "Requirement already satisfied: setuptools in /Users/liuyuan/opt/anaconda3/lib/python3.8/site-packages (from protobuf>=3.6.1->tensorflow_datasets) (49.2.0.post20200714)\n",
      "Collecting googleapis-common-protos<2,>=1.52.0\n",
      "  Downloading googleapis_common_protos-1.52.0-py2.py3-none-any.whl (100 kB)\n",
      "\u001b[K     |████████████████████████████████| 100 kB 8.4 MB/s ta 0:00:01\n",
      "\u001b[?25hRequirement already satisfied: certifi>=2017.4.17 in /Users/liuyuan/opt/anaconda3/lib/python3.8/site-packages (from requests>=2.19.0->tensorflow_datasets) (2020.6.20)\n",
      "Requirement already satisfied: idna<3,>=2.5 in /Users/liuyuan/opt/anaconda3/lib/python3.8/site-packages (from requests>=2.19.0->tensorflow_datasets) (2.10)\n",
      "Requirement already satisfied: urllib3!=1.25.0,!=1.25.1,<1.26,>=1.21.1 in /Users/liuyuan/opt/anaconda3/lib/python3.8/site-packages (from requests>=2.19.0->tensorflow_datasets) (1.25.9)\n",
      "Requirement already satisfied: chardet<4,>=3.0.2 in /Users/liuyuan/opt/anaconda3/lib/python3.8/site-packages (from requests>=2.19.0->tensorflow_datasets) (3.0.4)\n",
      "Building wheels for collected packages: dill, promise\n",
      "  Building wheel for dill (setup.py) ... \u001b[?25ldone\n",
      "\u001b[?25h  Created wheel for dill: filename=dill-0.3.2-py3-none-any.whl size=78912 sha256=0e0aef23de2563af36f28ec280e73b007c3616ce66496bf8ab972f054ec42868\n",
      "  Stored in directory: /Users/liuyuan/Library/Caches/pip/wheels/93/7f/7d/78ec535a4340ef2696aad8b17fe8bb063d56301bd62881b069\n",
      "  Building wheel for promise (setup.py) ... \u001b[?25ldone\n",
      "\u001b[?25h  Created wheel for promise: filename=promise-2.3-py3-none-any.whl size=21495 sha256=c5ad7ff7aa6febf63e1cdf7ca63ef417db7ebed9ab99de34499533f3a19d7e40\n",
      "  Stored in directory: /Users/liuyuan/Library/Caches/pip/wheels/54/aa/01/724885182f93150035a2a91bce34a12877e8067a97baaf5dc8\n",
      "Successfully built dill promise\n",
      "Installing collected packages: dill, promise, dm-tree, googleapis-common-protos, tensorflow-metadata, importlib-resources, tensorflow-datasets\n",
      "Successfully installed dill-0.3.2 dm-tree-0.1.5 googleapis-common-protos-1.52.0 importlib-resources-3.0.0 promise-2.3 tensorflow-datasets-4.0.1 tensorflow-metadata-0.24.0\n",
      "Note: you may need to restart the kernel to use updated packages.\n"
     ]
    }
   ],
   "source": [
    "pip install tensorflow_datasets"
   ]
  },
  {
   "cell_type": "code",
   "execution_count": 26,
   "metadata": {
    "id": "TQl7DZmBNvm_"
   },
   "outputs": [
    {
     "name": "stdout",
     "output_type": "stream",
     "text": [
      "\u001b[1mDownloading and preparing dataset mnist/3.0.1 (download: 11.06 MiB, generated: 21.00 MiB, total: 32.06 MiB) to /Users/liuyuan/tensorflow_datasets/mnist/3.0.1...\u001b[0m\n"
     ]
    },
    {
     "name": "stderr",
     "output_type": "stream",
     "text": [
      "WARNING:absl:Dataset mnist is hosted on GCS. It will automatically be downloaded to your\n",
      "local data directory. If you'd instead prefer to read directly from our public\n",
      "GCS bucket (recommended if you're running on GCP), you can instead pass\n",
      "`try_gcs=True` to `tfds.load` or set `data_dir=gs://tfds-data/datasets`.\n",
      "\n"
     ]
    },
    {
     "data": {
      "application/vnd.jupyter.widget-view+json": {
       "model_id": "96b8adf05b1f402f8cc8a9cebf576ad6",
       "version_major": 2,
       "version_minor": 0
      },
      "text/plain": [
       "HBox(children=(FloatProgress(value=0.0, description='Dl Completed...', max=4.0, style=ProgressStyle(descriptio…"
      ]
     },
     "metadata": {},
     "output_type": "display_data"
    },
    {
     "name": "stdout",
     "output_type": "stream",
     "text": [
      "\n",
      "\n",
      "\u001b[1mDataset mnist downloaded and prepared to /Users/liuyuan/tensorflow_datasets/mnist/3.0.1. Subsequent calls will reuse this data.\u001b[0m\n",
      "tfds.core.DatasetInfo(\n",
      "    name='mnist',\n",
      "    version=3.0.1,\n",
      "    description='The MNIST database of handwritten digits.',\n",
      "    homepage='http://yann.lecun.com/exdb/mnist/',\n",
      "    features=FeaturesDict({\n",
      "        'image': Image(shape=(28, 28, 1), dtype=tf.uint8),\n",
      "        'label': ClassLabel(shape=(), dtype=tf.int64, num_classes=10),\n",
      "    }),\n",
      "    total_num_examples=70000,\n",
      "    splits={\n",
      "        'test': 10000,\n",
      "        'train': 60000,\n",
      "    },\n",
      "    supervised_keys=('image', 'label'),\n",
      "    citation=\"\"\"@article{lecun2010mnist,\n",
      "      title={MNIST handwritten digit database},\n",
      "      author={LeCun, Yann and Cortes, Corinna and Burges, CJ},\n",
      "      journal={ATT Labs [Online]. Available: http://yann.lecun.com/exdb/mnist},\n",
      "      volume={2},\n",
      "      year={2010}\n",
      "    }\"\"\",\n",
      "    redistribution_info=,\n",
      ")\n",
      "\n"
     ]
    }
   ],
   "source": [
    "import tensorflow_datasets as tfds\n",
    "\n",
    "ds, metadata = tfds.load('mnist', with_info=True)\n",
    "print(metadata)"
   ]
  },
  {
   "cell_type": "code",
   "execution_count": 37,
   "metadata": {
    "id": "bKre0z2HOCDm"
   },
   "outputs": [
    {
     "name": "stdout",
     "output_type": "stream",
     "text": [
      "Model: \"sequential_12\"\n",
      "_________________________________________________________________\n",
      "Layer (type)                 Output Shape              Param #   \n",
      "=================================================================\n",
      "flatten_4 (Flatten)          (None, 784)               0         \n",
      "_________________________________________________________________\n",
      "dense_38 (Dense)             (None, 100)               78500     \n",
      "_________________________________________________________________\n",
      "dense_39 (Dense)             (None, 20)                2020      \n",
      "_________________________________________________________________\n",
      "dense_40 (Dense)             (None, 10)                210       \n",
      "=================================================================\n",
      "Total params: 80,730\n",
      "Trainable params: 80,730\n",
      "Non-trainable params: 0\n",
      "_________________________________________________________________\n",
      "Epoch 1/1000\n",
      "100/100 [==============================] - 0s 4ms/step - loss: 1.1525 - val_loss: 0.4958\n",
      "Epoch 2/1000\n",
      "100/100 [==============================] - 0s 3ms/step - loss: 0.4694 - val_loss: 0.3516\n",
      "Epoch 3/1000\n",
      "100/100 [==============================] - 0s 3ms/step - loss: 0.3879 - val_loss: 0.3244\n",
      "Epoch 4/1000\n",
      "100/100 [==============================] - 0s 3ms/step - loss: 0.3492 - val_loss: 0.3103\n",
      "Epoch 5/1000\n",
      "100/100 [==============================] - 0s 3ms/step - loss: 0.3173 - val_loss: 0.2785\n",
      "Epoch 6/1000\n",
      "100/100 [==============================] - 0s 3ms/step - loss: 0.2984 - val_loss: 0.2689\n"
     ]
    }
   ],
   "source": [
    "a=tf.nn.softplus\n",
    "model=tfk.Sequential([\n",
    "    tfkl.Input((28,28,1,)),\n",
    "    tfkl.Flatten(),\n",
    "    tfkl.Dense(100,activation=a),\n",
    "    tfkl.Dense(20,activation=a),\n",
    "    tfkl.Dense(10,activation=tf.nn.softmax)\n",
    "])\n",
    "model.summary()\n",
    "cbs=[tfk.callbacks.EarlyStopping(min_delta=0.01, patience=1)]\n",
    "\n",
    "preprocess = lambda d: (tf.cast(d['image'], tf.float32)/255., d['label'])\n",
    "ds_train =ds['train'].map(preprocess).cache().batch(32).repeat().prefetch(10)\n",
    "ds_test =ds['test'].take(1000).map(preprocess).batch(1000).repeat().prefetch(10)\n",
    "\n",
    "loss=tfk.losses.SparseCategoricalCrossentropy() \n",
    "opt=tfk.optimizers.Adam()\n",
    "\n",
    "model.compile(opt,loss)\n",
    "\n",
    "result=model.fit(ds_train,validation_data = ds_test,\n",
    "                 validation_steps = 1, steps_per_epoch=100, epochs=1000, callbacks=cbs)"
   ]
  },
  {
   "cell_type": "code",
   "execution_count": 39,
   "metadata": {
    "id": "oJ17dcdQOt_w"
   },
   "outputs": [
    {
     "data": {
      "image/png": "[encoded data removed]",
      "text/plain": [
       "<Figure size 720x2880 with 2 Axes>"
      ]
     },
     "metadata": {
      "needs_background": "light"
     },
     "output_type": "display_data"
    },
    {
     "data": {
      "image/png": "[encoded data removed]",
      "text/plain": [
       "<Figure size 432x288 with 2 Axes>"
      ]
     },
     "metadata": {
      "needs_background": "light"
     },
     "output_type": "display_data"
    },
    {
     "data": {
      "image/png": "[encoded data removed]",
      "text/plain": [
       "<Figure size 432x288 with 2 Axes>"
      ]
     },
     "metadata": {
      "needs_background": "light"
     },
     "output_type": "display_data"
    },
    {
     "data": {
      "image/png": "[encoded data removed]",
      "text/plain": [
       "<Figure size 432x288 with 2 Axes>"
      ]
     },
     "metadata": {
      "needs_background": "light"
     },
     "output_type": "display_data"
    },
    {
     "data": {
      "image/png": "[encoded data removed]",
      "text/plain": [
       "<Figure size 432x288 with 2 Axes>"
      ]
     },
     "metadata": {
      "needs_background": "light"
     },
     "output_type": "display_data"
    },
    {
     "data": {
      "image/png": "[encoded data removed]",
      "text/plain": [
       "<Figure size 432x288 with 2 Axes>"
      ]
     },
     "metadata": {
      "needs_background": "light"
     },
     "output_type": "display_data"
    },
    {
     "data": {
      "image/png": "[encoded data removed]",
      "text/plain": [
       "<Figure size 432x288 with 2 Axes>"
      ]
     },
     "metadata": {
      "needs_background": "light"
     },
     "output_type": "display_data"
    },
    {
     "data": {
      "image/png": "[encoded data removed]",
      "text/plain": [
       "<Figure size 432x288 with 2 Axes>"
      ]
     },
     "metadata": {
      "needs_background": "light"
     },
     "output_type": "display_data"
    },
    {
     "data": {
      "image/png": "[encoded data removed]",
      "text/plain": [
       "<Figure size 432x288 with 2 Axes>"
      ]
     },
     "metadata": {
      "needs_background": "light"
     },
     "output_type": "display_data"
    },
    {
     "data": {
      "image/png": "[encoded data removed]",
      "text/plain": [
       "<Figure size 432x288 with 2 Axes>"
      ]
     },
     "metadata": {
      "needs_background": "light"
     },
     "output_type": "display_data"
    }
   ],
   "source": [
    "def mnist_viz(model):\n",
    "    ims, labels = next(iter(ds['test'].map(preprocess).batch(10)))\n",
    "    yhat = model(ims)\n",
    "    ypred = tf.argmax(yhat)\n",
    "\n",
    "    plt.figure(figsize=(10, 40))\n",
    "    for i in range(10):\n",
    "        plt.subplot(10, 2, 2*i+1)\n",
    "        plt.imshow(ims[i].numpy().squeeze(), cmap='bone')\n",
    "        plt.subplot(10, 2, 2*i+2)\n",
    "        plt.bar(np.arange(10), yhat[i].numpy())\n",
    "        plt.ylim([0, 1])\n",
    "        plt.show()\n",
    "\n",
    "# your code here\n",
    "mnist_viz(model)"
   ]
  },
  {
   "cell_type": "code",
   "execution_count": null,
   "metadata": {},
   "outputs": [],
   "source": []
  }
 ],
 "metadata": {
  "accelerator": "TPU",
  "colab": {
   "name": "Copy of keras-lab.ipynb",
   "provenance": []
  },
  "kernelspec": {
   "display_name": "Python 3",
   "language": "python",
   "name": "python3"
  },
  "language_info": {
   "codemirror_mode": {
    "name": "ipython",
    "version": 3
   },
   "file_extension": ".py",
   "mimetype": "text/x-python",
   "name": "python",
   "nbconvert_exporter": "python",
   "pygments_lexer": "ipython3",
   "version": "3.8.3"
  }
 },
 "nbformat": 4,
 "nbformat_minor": 1
}
